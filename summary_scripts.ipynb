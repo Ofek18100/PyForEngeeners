{
 "cells": [
  {
   "cell_type": "code",
   "execution_count": 1,
   "metadata": {
    "pycharm": {
     "name": "#%%\n"
    }
   },
   "outputs": [],
   "source": [
    "import Main as gen\n",
    "import pandas as pd\n",
    "import matplotlib.pyplot as plt\n",
    "import re\n",
    "import importlib\n",
    "from configparser import ConfigParser, ExtendedInterpolation\n"
   ]
  },
  {
   "cell_type": "code",
   "execution_count": 6,
   "metadata": {
    "pycharm": {
     "name": "#%%\n"
    }
   },
   "outputs": [
    {
     "name": "stdout",
     "output_type": "stream",
     "text": [
      "/home/guysh/worksToCheck/outputs\n",
      "4\n",
      "2023a\n"
     ]
    }
   ],
   "source": [
    "\n",
    "configParser = ConfigParser(interpolation=ExtendedInterpolation())\n",
    "# TODO - Change this to updated path each excercise\n",
    "configParser.read(\"past_configs/2023a_ex4_config.ini\")\n",
    "\n",
    "wdir = configParser[\"paths\"][\"out_path\"]\n",
    "# fix this sheet\n",
    "wdir = \"/home/guysh/worksToCheck/outputs\"\n",
    "print(wdir)\n",
    "EX_NUM = configParser[\"misc\"][\"EX_NUM\"]\n",
    "SEMESTER = configParser[\"misc\"][\"SEMESTER\"]\n",
    "print(EX_NUM)\n",
    "print(SEMESTER)"
   ]
  },
  {
   "cell_type": "markdown",
   "metadata": {
    "pycharm": {
     "name": "#%% md\n"
    }
   },
   "source": [
    "## Summarize the pattern of mistakes, which occurred a lot "
   ]
  },
  {
   "cell_type": "code",
   "execution_count": 13,
   "metadata": {
    "pycharm": {
     "name": "#%%\n"
    },
    "scrolled": true
   },
   "outputs": [
    {
     "name": "stdout",
     "output_type": "stream",
     "text": [
      "err_df shape: (155, 43)\n",
      "err_df_merged shape:        A1  A1X   A2  A2X   A3  A3X AImp   B1  B1X  \\\n",
      "0    NaN  NaN  NaN  NaN  NaN  NaN  NaN  NaN  NaN   \n",
      "1    NaN  NaN  NaN  NaN  NaN  NaN  NaN  NaN  NaN   \n",
      "2    NaN  NaN  NaN  NaN  NaN  NaN  NaN  NaN  NaN   \n",
      "3    NaN  NaN  NaN  NaN  NaN  NaN  NaN  NaN  NaN   \n",
      "4    NaN  NaN  NaN  NaN  NaN  NaN  NaN  NaN  NaN   \n",
      "..   ...  ...  ...  ...  ...  ...  ...  ...  ...   \n",
      "150  NaN  NaN  NaN  NaN  NaN  NaN  NaN  NaN  NaN   \n",
      "151  NaN  NaN  NaN  NaN  NaN  NaN  NaN  NaN  NaN   \n",
      "152  NaN  NaN  NaN  NaN  NaN  NaN  NaN  NaN  NaN   \n",
      "153  NaN  NaN  NaN  NaN  NaN  NaN  NaN  NaN  NaN   \n",
      "154  NaN  NaN  NaN  NaN  NaN  NaN  NaN  NaN  NaN   \n",
      "\n",
      "                                                    B2  ... DImp   E0   E1  \\\n",
      "0                                                  NaN  ...  NaN  NaN  NaN   \n",
      "1                                                  NaN  ...  NaN  NaN  NaN   \n",
      "2                                                  NaN  ...  NaN  NaN  NaN   \n",
      "3    {'Wrong answer, expected output: [{(1, 1): 1},...  ...  NaN  NaN  NaN   \n",
      "4                                                  NaN  ...  NaN  NaN  NaN   \n",
      "..                                                 ...  ...  ...  ...  ...   \n",
      "150                                                NaN  ...  NaN  NaN  NaN   \n",
      "151  {'Wrong answer, expected output: [{(1, 1): 1},...  ...  NaN  NaN  NaN   \n",
      "152                                                NaN  ...  NaN  NaN  NaN   \n",
      "153                                                NaN  ...  NaN  NaN  NaN   \n",
      "154                                                NaN  ...  NaN  NaN  NaN   \n",
      "\n",
      "     E1X   E2  E2X EImp  Imp                OK    stud_id  \n",
      "0    NaN  NaN  NaN  NaN  NaN               NaN  315572446  \n",
      "1    NaN  NaN  NaN  NaN  NaN  Passed all tests  206916298  \n",
      "2    NaN  NaN  NaN  NaN  NaN               NaN  314686304  \n",
      "3    NaN  NaN  NaN  NaN  NaN               NaN  313334922  \n",
      "4    NaN  NaN  NaN  NaN  NaN  Passed all tests  206664633  \n",
      "..   ...  ...  ...  ...  ...               ...        ...  \n",
      "150  NaN  NaN  NaN  NaN  NaN  Passed all tests  214951915  \n",
      "151  NaN  NaN  NaN  NaN  NaN               NaN  207421967  \n",
      "152  NaN  NaN  NaN  NaN  NaN  Passed all tests  206779837  \n",
      "153  NaN  NaN  NaN  NaN  NaN  Passed all tests  213747553  \n",
      "154  NaN  NaN  NaN  NaN  NaN               NaN  206559015  \n",
      "\n",
      "[155 rows x 43 columns]\n"
     ]
    }
   ],
   "source": [
    "err_df = pd.read_csv(f'{wdir}/ex{EX_NUM}_err_df_extended.csv', index_col = 0)\n",
    "err_df = err_df.drop(['stud_name'], axis = 1)\n",
    "print(\"err_df shape:\", err_df.shape)\n",
    "\n",
    "try:\n",
    "    err_df_recheck = pd.read_csv(f'{wdir}/ex{EX_NUM}_recheck_err_df_extended.csv', index_col = 0)\n",
    "    err_df_recheck = err_df_recheck.drop(['stud_name'], axis = 1)\n",
    "    print(\"Imported rechecks, rechecks df shape:\", err_df_recheck.shape)\n",
    "except:\n",
    "    err_df_recheck = None\n",
    "    \n",
    "err_df_merged = pd.concat([err_df, err_df_recheck], sort=True).drop_duplicates(['stud_id'],keep='last')\n",
    "#print(\"err_df_merged shape: \",err_df_merged)\n",
    "# err_df_merged['RE']\n"
   ]
  },
  {
   "cell_type": "markdown",
   "metadata": {
    "pycharm": {
     "name": "#%% md\n"
    }
   },
   "source": [
    "### Melt all err codes to long form to gather them and make statistics"
   ]
  },
  {
   "cell_type": "code",
   "execution_count": 14,
   "metadata": {
    "pycharm": {
     "name": "#%%\n"
    }
   },
   "outputs": [
    {
     "name": "stdout",
     "output_type": "stream",
     "text": [
      "(6510, 3)\n",
      "(425, 3)\n"
     ]
    }
   ],
   "source": [
    "cols = list(err_df_merged.columns)\n",
    "cols.remove('stud_id')\n",
    "err_df_longform = err_df_merged.melt(id_vars= 'stud_id', value_vars = cols,  var_name = 'err_code')\n",
    "#.drop('err_code', axis = 1).rename({'value':'err_code'}, axis =1)\n",
    "print(err_df_longform.shape)\n",
    "err_df_longform = err_df_longform.dropna()\n",
    "print(err_df_longform.shape)\n"
   ]
  },
  {
   "cell_type": "markdown",
   "metadata": {
    "pycharm": {
     "name": "#%% md\n"
    }
   },
   "source": [
    "Remove cells with OK as they are not mistakes"
   ]
  },
  {
   "cell_type": "code",
   "execution_count": 15,
   "metadata": {
    "pycharm": {
     "name": "#%%\n"
    }
   },
   "outputs": [
    {
     "name": "stdout",
     "output_type": "stream",
     "text": [
      "(372, 3)\n",
      "(8, 3)\n"
     ]
    }
   ],
   "source": [
    "mask = err_df_longform.err_code == 'OK'\n",
    "err_df_longform = err_df_longform[~mask]\n",
    "print(err_df_longform.shape)\n",
    "mask = err_df_longform.err_code == 'Imp'\n",
    "err_df_longform[mask]\n",
    "# err_df_longform = err_df_longform[~mask]\n",
    "print(err_df_longform[mask].shape)"
   ]
  },
  {
   "cell_type": "code",
   "execution_count": 121,
   "metadata": {
    "pycharm": {
     "name": "#%%\n"
    }
   },
   "outputs": [],
   "source": [
    "# err_df_longform.loc[err_df_longform.err_code == 'A5'].value.iloc[0]"
   ]
  },
  {
   "cell_type": "code",
   "execution_count": 16,
   "metadata": {
    "pycharm": {
     "name": "#%%\n"
    }
   },
   "outputs": [],
   "source": [
    "def err_to_QNum(err_code):\n",
    "    '''\n",
    "    Helper fucntion to map from err codes to the questions they originate from\n",
    "    Helps to understand how many errors there are for each question\n",
    "    '''\n",
    "    QNum_dict = {'A': 1, 'B': 2, 'C':3, 'D':4, 'E': 5, 'F':6, 'I':'Import', 'R':'Recheck',}\n",
    "#     print(err_code)\n",
    "    try:\n",
    "        if err_code in ['RE', 'Imp']:\n",
    "            return err_code\n",
    "        \n",
    "        return QNum_dict[err_code[0]]\n",
    "    \n",
    "    except:\n",
    "        print(err_code)\n",
    "        print(QNum_dict[err_code[0]])"
   ]
  },
  {
   "cell_type": "markdown",
   "metadata": {
    "pycharm": {
     "name": "#%% md\n"
    }
   },
   "source": [
    "Map errors to questions numbers and report the amount of errors per questions"
   ]
  },
  {
   "cell_type": "code",
   "execution_count": 17,
   "metadata": {
    "pycharm": {
     "name": "#%%\n"
    },
    "scrolled": false
   },
   "outputs": [
    {
     "data": {
      "image/png": "[encoded data removed]",
      "text/plain": [
       "<Figure size 1440x720 with 1 Axes>"
      ]
     },
     "metadata": {
      "needs_background": "light"
     },
     "output_type": "display_data"
    }
   ],
   "source": [
    "# errs_dist = err_df_longform.err_code.value_counts(normalize=True, sort=True)\n",
    "errs_dist = err_df_longform.err_code.value_counts(normalize=False, sort=True)\n",
    "errs_dist.plot(kind='bar', figsize=(20, 10), rot = 45)\n",
    "plt.xlabel('err_code')\n",
    "plt.ylabel('Frequency')\n",
    "plt.title(f'Python for Engineers, {SEMESTER}, Ex{EX_NUM} - Specific errors distribution by Question Number')\n",
    "plt.savefig(f'{wdir}/ex{EX_NUM}_spec_err_dist.png')\n",
    "\n",
    "plt.show()"
   ]
  },
  {
   "cell_type": "code",
   "execution_count": 18,
   "metadata": {
    "pycharm": {
     "name": "#%%\n"
    }
   },
   "outputs": [
    {
     "name": "stdout",
     "output_type": "stream",
     "text": [
      "{'Wrong answer, expected output: [{(1, 1): -1, (2, 2): 1}, {(1, 1): 2, (5, 5): -5, (5, 4): 2}], got: {(1, 1): -2}.'}\n",
      "{'Wrong answer, expected output: [{(1, 1): -1, (2, 2): 1}, {(1, 1): 2, (5, 5): -5, (5, 4): 2}], got: {(1, 1): -2}.'}\n",
      "{'Wrong answer, expected output: [{(1, 1): -1, (2, 2): 1}, {(1, 1): 2, (5, 5): -5, (5, 4): 2}], got: {(1, 1): -2}.'}\n"
     ]
    }
   ],
   "source": [
    "q_errcode = 'B3'\n",
    "mask = err_df_longform['err_code'].str.contains(rf'{q_errcode}')\n",
    "# mask = len(re.findall(ptrn, )) > 0\n",
    "print(err_df_longform.loc[mask]['value'].iloc[0])\n",
    "print(err_df_longform.loc[mask]['value'].iloc[1])\n",
    "print(err_df_longform.loc[mask]['value'].iloc[2])\n",
    "# err_df_longform.loc[(err_df_longform['err_code'] == 'B2L') & (err_df_longform['value'] != \"{'Passed'}\")]"
   ]
  },
  {
   "cell_type": "code",
   "execution_count": 19,
   "metadata": {
    "pycharm": {
     "name": "#%%\n"
    },
    "scrolled": false
   },
   "outputs": [],
   "source": [
    "err_df_longform = err_df_longform.assign(QNum = err_df_longform.err_code.apply(err_to_QNum))"
   ]
  },
  {
   "cell_type": "code",
   "execution_count": 20,
   "metadata": {
    "pycharm": {
     "name": "#%%\n"
    },
    "scrolled": true
   },
   "outputs": [
    {
     "data": {
      "image/png": "[encoded data removed]",
      "text/plain": [
       "<Figure size 576x288 with 1 Axes>"
      ]
     },
     "metadata": {
      "needs_background": "light"
     },
     "output_type": "display_data"
    },
    {
     "name": "stdout",
     "output_type": "stream",
     "text": [
      "\n"
     ]
    }
   ],
   "source": [
    "errs_dist = err_df_longform.QNum.value_counts(normalize=True, sort=True)\n",
    "errs_dist.plot(kind='bar', figsize=(8, 4), rot = 45 )\n",
    "plt.xlabel('Question number')\n",
    "plt.ylabel('Frequency')\n",
    "plt.title(f'Python for Engineers, {SEMESTER}, Ex{EX_NUM} - Errors distribution by Question Number')\n",
    "plt.savefig(f'{wdir}/ex{EX_NUM}_general_err_dist.png')\n",
    "plt.show()\n",
    "print(\"\")\n",
    "\n",
    "# print(f\"*******\\n\"\n",
    "#       f\"Final Ex{EX_NUM} data: grade distribution is:\\n{str(dist)}\\n\"\n",
    "#       f\"Avg num of errors is: {round(final_df.err_count.mean(), 0)}\\n\"\n",
    "#       f\"Median num of errors is: {round(final_df.err_count.median(), 0)}\\n\"\n",
    "#       f\"*******\\n\")"
   ]
  },
  {
   "cell_type": "code",
   "execution_count": 21,
   "metadata": {
    "pycharm": {
     "name": "#%%\n"
    },
    "scrolled": true
   },
   "outputs": [
    {
     "data": {
      "text/html": [
       "<div>\n",
       "<style scoped>\n",
       "    .dataframe tbody tr th:only-of-type {\n",
       "        vertical-align: middle;\n",
       "    }\n",
       "\n",
       "    .dataframe tbody tr th {\n",
       "        vertical-align: top;\n",
       "    }\n",
       "\n",
       "    .dataframe thead th {\n",
       "        text-align: right;\n",
       "    }\n",
       "</style>\n",
       "<table border=\"1\" class=\"dataframe\">\n",
       "  <thead>\n",
       "    <tr style=\"text-align: right;\">\n",
       "      <th></th>\n",
       "      <th>stud_id</th>\n",
       "      <th>err_code</th>\n",
       "      <th>value</th>\n",
       "      <th>QNum</th>\n",
       "    </tr>\n",
       "  </thead>\n",
       "  <tbody>\n",
       "  </tbody>\n",
       "</table>\n",
       "</div>"
      ],
      "text/plain": [
       "Empty DataFrame\n",
       "Columns: [stud_id, err_code, value, QNum]\n",
       "Index: []"
      ]
     },
     "execution_count": 21,
     "metadata": {},
     "output_type": "execute_result"
    }
   ],
   "source": [
    "test = err_df_longform.err_code.apply(lambda x: x.endswith('1R'))\n",
    "err_df_longform[test]\n",
    "# mask = f(err_df_longform.err_code)\n",
    "# err_df_longform[mask]"
   ]
  },
  {
   "cell_type": "markdown",
   "metadata": {
    "pycharm": {
     "name": "#%% md\n"
    }
   },
   "source": [
    "## Finalize student grades dataframe and plot summary statistics"
   ]
  },
  {
   "cell_type": "code",
   "execution_count": 22,
   "metadata": {
    "pycharm": {
     "name": "#%%\n"
    }
   },
   "outputs": [],
   "source": [
    "def get_final_grade(err_count: float) -> int:\n",
    "    '''\n",
    "    COPIED FROM THE general_tester_utils.py\n",
    "    \n",
    "    Return a grade according to number of grades\n",
    "    :param err_count: a float representing number of errors (e.g 15.5)\n",
    "    :return: an integer representing the final grade according to the grading rules.\n",
    "    '''\n",
    "    if err_count <= 1:\n",
    "        return 100\n",
    "    elif err_count <= 3.0:\n",
    "        return 90\n",
    "    elif err_count <= 10.0:\n",
    "        return 80\n",
    "    elif err_count <20.0:\n",
    "        return 60\n",
    "    else:\n",
    "        return 0"
   ]
  },
  {
   "cell_type": "code",
   "execution_count": 23,
   "metadata": {
    "pycharm": {
     "name": "#%%\n"
    }
   },
   "outputs": [],
   "source": [
    "def get_err_count(err_codes_str: str)-> float:\n",
    "    '''\n",
    "    THIS FUNCTION IS USED AGAIN TO REFACTOR GRADES AT THE FINAL NOTEBOOK, ITS HERE FOR PURPOSE OF CONSERVATION\n",
    "    Get a string representing all error codes that a student has.\n",
    "    Count the different types of errors and return the weighted total of errors.\n",
    "    :param err_codes_str: string representation of error codes, format is a  a comma seprated string representation of\n",
    "    a list, such assuch as 'A1, D*2, C3' etc.\n",
    "    :return: float representing the total weighted errors.\n",
    "    '''\n",
    "    if(err_codes_str == 'OK'): return 0  # No errors at all\n",
    "    if len(re.findall(r'\\bImp', err_codes_str)) > 0 : return 20 # Total import error, could not check submission\n",
    "\n",
    "    cum_sum_of_errs = 0\n",
    "\n",
    "    qnum_err_codes = ['A', 'B', 'C', 'D', 'E', 'G']\n",
    "    max_err_per_q = 3\n",
    "\n",
    "    for qnum, q_errcode in enumerate(qnum_err_codes, 1):\n",
    "        \n",
    "        # Failed to test the question - e.g AImp - give a weight of 3\n",
    "        if(len(re.findall(f'{q_errcode}Imp', err_codes_str)) > 0 ):\n",
    "            cum_sum_of_errs += 3\n",
    "            continue \n",
    "            \n",
    "        # EX6-7 Where using loops is forbidden \n",
    "        if(len(re.findall(rf'[{q_errcode}]0', err_codes_str)) > 0 ):\n",
    "            cum_sum_of_errs += 3\n",
    "            continue \n",
    "          \n",
    "        # Take up to <max_err_per_q> per question\n",
    "        num_of_errs = min(len(re.findall(f'{q_errcode}', err_codes_str)), max_err_per_q)\n",
    "        \n",
    "\n",
    "        # Add to cumulative sum of erros so far\n",
    "        cum_sum_of_errs += num_of_errs \n",
    "        \n",
    "    \n",
    "    # Find students with a RE flag\n",
    "    RECHECK_flag = len(re.findall('RE', err_codes_str))\n",
    "\n",
    "    \n",
    "    # Calculate final err count\n",
    "    err_count = cum_sum_of_errs + RECHECK_flag * 4\n",
    "\n",
    "    return err_count\n"
   ]
  },
  {
   "cell_type": "markdown",
   "metadata": {
    "pycharm": {
     "name": "#%% md\n"
    }
   },
   "source": [
    "### Load and merge student df files"
   ]
  },
  {
   "cell_type": "code",
   "execution_count": 24,
   "metadata": {
    "pycharm": {
     "name": "#%%\n"
    }
   },
   "outputs": [
    {
     "name": "stdout",
     "output_type": "stream",
     "text": [
      "students_merged_df shape: (155, 6)\n"
     ]
    }
   ],
   "source": [
    "stud_df = pd.read_csv(f'{wdir}/ex{EX_NUM}_students_df.csv', index_col = 0)\n",
    "try:\n",
    "    stud_df_recheck = pd.read_csv(f'{wdir}/ex{EX_NUM}_recheck_students_df.csv', index_col = 0)\n",
    "    print(\"Imported rechecks, rechecks df shape:\", stud_df_recheck.shape)\n",
    "except:\n",
    "    stud_df_recheck = None\n",
    "    \n",
    "students_merged_df = pd.concat([stud_df,stud_df_recheck]).drop_duplicates(['stud_id'],keep='last').sort_values('err_codes')\n",
    "print(\"students_merged_df shape:\", students_merged_df.shape)"
   ]
  },
  {
   "cell_type": "code",
   "execution_count": 25,
   "metadata": {
    "pycharm": {
     "name": "#%%\n"
    }
   },
   "outputs": [],
   "source": [
    "### Apply grading functions, plot and write out files"
   ]
  },
  {
   "cell_type": "code",
   "execution_count": 26,
   "metadata": {
    "pycharm": {
     "name": "#%%\n"
    }
   },
   "outputs": [],
   "source": [
    "students_merged_df = students_merged_df.assign(err_count = students_merged_df.err_codes.apply(lambda  err_list: get_err_count(err_list)))\n",
    "students_merged_df = students_merged_df.assign(final_grade=students_merged_df.err_count.apply(lambda err_num: get_final_grade(err_num)))\n"
   ]
  },
  {
   "cell_type": "code",
   "execution_count": 27,
   "metadata": {
    "pycharm": {
     "name": "#%%\n"
    }
   },
   "outputs": [
    {
     "data": {
      "text/plain": [
       "QNum\n",
       "2      0.446237\n",
       "3      0.174731\n",
       "4      0.158602\n",
       "1      0.137097\n",
       "5      0.061828\n",
       "Imp    0.021505\n",
       "Name: proportion, dtype: float64"
      ]
     },
     "execution_count": 27,
     "metadata": {},
     "output_type": "execute_result"
    }
   ],
   "source": [
    "errs_dist"
   ]
  },
  {
   "cell_type": "code",
   "execution_count": 28,
   "metadata": {
    "pycharm": {
     "name": "#%%\n"
    }
   },
   "outputs": [
    {
     "ename": "AttributeError",
     "evalue": "'DataFrame' object has no attribute 'percent_of_total'",
     "output_type": "error",
     "traceback": [
      "\u001b[0;31m---------------------------------------------------------------------------\u001b[0m",
      "\u001b[0;31mAttributeError\u001b[0m                            Traceback (most recent call last)",
      "\u001b[0;32m/tmp/ipykernel_21807/2029583880.py\u001b[0m in \u001b[0;36m<module>\u001b[0;34m\u001b[0m\n\u001b[1;32m     11\u001b[0m \u001b[0mplt\u001b[0m\u001b[0;34m.\u001b[0m\u001b[0mtitle\u001b[0m\u001b[0;34m(\u001b[0m\u001b[0;34mf'Python for Engineers, 2022a, Ex{EX_NUM} - Grades distribution'\u001b[0m\u001b[0;34m)\u001b[0m\u001b[0;34m\u001b[0m\u001b[0;34m\u001b[0m\u001b[0m\n\u001b[1;32m     12\u001b[0m \u001b[0mplt\u001b[0m\u001b[0;34m.\u001b[0m\u001b[0msavefig\u001b[0m\u001b[0;34m(\u001b[0m\u001b[0;34mf'{wdir}/ex{EX_NUM}_grades_dist.png'\u001b[0m\u001b[0;34m)\u001b[0m\u001b[0;34m\u001b[0m\u001b[0;34m\u001b[0m\u001b[0m\n\u001b[0;32m---> 13\u001b[0;31m \u001b[0mgen\u001b[0m\u001b[0;34m.\u001b[0m\u001b[0mplotResults\u001b[0m\u001b[0;34m(\u001b[0m\u001b[0mstudents_merged_df\u001b[0m\u001b[0;34m)\u001b[0m\u001b[0;34m\u001b[0m\u001b[0;34m\u001b[0m\u001b[0m\n\u001b[0m\u001b[1;32m     14\u001b[0m \u001b[0mplt\u001b[0m\u001b[0;34m.\u001b[0m\u001b[0mshow\u001b[0m\u001b[0;34m(\u001b[0m\u001b[0;34m)\u001b[0m\u001b[0;34m\u001b[0m\u001b[0;34m\u001b[0m\u001b[0m\n",
      "\u001b[0;32m~/PyForEngeenersTester/Main.py\u001b[0m in \u001b[0;36mplotResults\u001b[0;34m(students_df_summary)\u001b[0m\n\u001b[1;32m    206\u001b[0m     \u001b[0mtemp\u001b[0m \u001b[0;34m=\u001b[0m \u001b[0mtemp\u001b[0m\u001b[0;34m.\u001b[0m\u001b[0massign\u001b[0m\u001b[0;34m(\u001b[0m\u001b[0mnum_of_students\u001b[0m\u001b[0;34m=\u001b[0m\u001b[0mdist_quant\u001b[0m\u001b[0;34m)\u001b[0m\u001b[0;34m\u001b[0m\u001b[0;34m\u001b[0m\u001b[0m\n\u001b[1;32m    207\u001b[0m     \u001b[0mtemp\u001b[0m\u001b[0;34m.\u001b[0m\u001b[0mrename\u001b[0m\u001b[0;34m(\u001b[0m\u001b[0;34m{\u001b[0m\u001b[0;34m'final_grade'\u001b[0m\u001b[0;34m:\u001b[0m \u001b[0;34m'percent_of_total'\u001b[0m\u001b[0;34m}\u001b[0m\u001b[0;34m,\u001b[0m \u001b[0minplace\u001b[0m\u001b[0;34m=\u001b[0m\u001b[0;32mTrue\u001b[0m\u001b[0;34m,\u001b[0m \u001b[0maxis\u001b[0m\u001b[0;34m=\u001b[0m\u001b[0;36m1\u001b[0m\u001b[0;34m)\u001b[0m\u001b[0;34m\u001b[0m\u001b[0;34m\u001b[0m\u001b[0m\n\u001b[0;32m--> 208\u001b[0;31m     \u001b[0mtemp\u001b[0m\u001b[0;34m.\u001b[0m\u001b[0mpercent_of_total\u001b[0m \u001b[0;34m=\u001b[0m \u001b[0mtemp\u001b[0m\u001b[0;34m.\u001b[0m\u001b[0mpercent_of_total\u001b[0m\u001b[0;34m.\u001b[0m\u001b[0mapply\u001b[0m\u001b[0;34m(\u001b[0m\u001b[0;32mlambda\u001b[0m \u001b[0mper\u001b[0m\u001b[0;34m:\u001b[0m \u001b[0mround\u001b[0m\u001b[0;34m(\u001b[0m\u001b[0mper\u001b[0m\u001b[0;34m,\u001b[0m \u001b[0;36m3\u001b[0m\u001b[0;34m)\u001b[0m\u001b[0;34m)\u001b[0m\u001b[0;34m\u001b[0m\u001b[0;34m\u001b[0m\u001b[0m\n\u001b[0m\u001b[1;32m    209\u001b[0m     \u001b[0mtemp\u001b[0m \u001b[0;34m=\u001b[0m \u001b[0mtemp\u001b[0m\u001b[0;34m[\u001b[0m\u001b[0;34m[\u001b[0m\u001b[0;34m'num_of_students'\u001b[0m\u001b[0;34m,\u001b[0m \u001b[0;34m'percent_of_total'\u001b[0m\u001b[0;34m]\u001b[0m\u001b[0;34m]\u001b[0m\u001b[0;34m\u001b[0m\u001b[0;34m\u001b[0m\u001b[0m\n\u001b[1;32m    210\u001b[0m     \u001b[0mtemp\u001b[0m \u001b[0;34m=\u001b[0m \u001b[0mtemp\u001b[0m\u001b[0;34m.\u001b[0m\u001b[0msort_index\u001b[0m\u001b[0;34m(\u001b[0m\u001b[0mascending\u001b[0m \u001b[0;34m=\u001b[0m \u001b[0;32mFalse\u001b[0m\u001b[0;34m)\u001b[0m\u001b[0;34m\u001b[0m\u001b[0;34m\u001b[0m\u001b[0m\n",
      "\u001b[0;32m~/.local/lib/python3.10/site-packages/pandas/core/generic.py\u001b[0m in \u001b[0;36m__getattr__\u001b[0;34m(self, name)\u001b[0m\n\u001b[1;32m   5987\u001b[0m         ):\n\u001b[1;32m   5988\u001b[0m             \u001b[0;32mreturn\u001b[0m \u001b[0mself\u001b[0m\u001b[0;34m[\u001b[0m\u001b[0mname\u001b[0m\u001b[0;34m]\u001b[0m\u001b[0;34m\u001b[0m\u001b[0;34m\u001b[0m\u001b[0m\n\u001b[0;32m-> 5989\u001b[0;31m         \u001b[0;32mreturn\u001b[0m \u001b[0mobject\u001b[0m\u001b[0;34m.\u001b[0m\u001b[0m__getattribute__\u001b[0m\u001b[0;34m(\u001b[0m\u001b[0mself\u001b[0m\u001b[0;34m,\u001b[0m \u001b[0mname\u001b[0m\u001b[0;34m)\u001b[0m\u001b[0;34m\u001b[0m\u001b[0;34m\u001b[0m\u001b[0m\n\u001b[0m\u001b[1;32m   5990\u001b[0m \u001b[0;34m\u001b[0m\u001b[0m\n\u001b[1;32m   5991\u001b[0m     \u001b[0;32mdef\u001b[0m \u001b[0m__setattr__\u001b[0m\u001b[0;34m(\u001b[0m\u001b[0mself\u001b[0m\u001b[0;34m,\u001b[0m \u001b[0mname\u001b[0m\u001b[0;34m:\u001b[0m \u001b[0mstr\u001b[0m\u001b[0;34m,\u001b[0m \u001b[0mvalue\u001b[0m\u001b[0;34m)\u001b[0m \u001b[0;34m->\u001b[0m \u001b[0;32mNone\u001b[0m\u001b[0;34m:\u001b[0m\u001b[0;34m\u001b[0m\u001b[0;34m\u001b[0m\u001b[0m\n",
      "\u001b[0;31mAttributeError\u001b[0m: 'DataFrame' object has no attribute 'percent_of_total'"
     ]
    },
    {
     "data": {
      "image/png": "[encoded data removed]",
      "text/plain": [
       "<Figure size 864x576 with 1 Axes>"
      ]
     },
     "metadata": {
      "needs_background": "light"
     },
     "output_type": "display_data"
    }
   ],
   "source": [
    "# Reload plotting function\n",
    "importlib.reload(gen)\n",
    "\n",
    "# Plot \n",
    "# errs_dist = students_merged_df.final_grade.value_counts(normalize=False, sort=False)\n",
    "# errs_dist.index.name = 'Grade'\n",
    "# errs_dist.plot(kind='bar', figsize=(12, 8), rot = 45)\n",
    "\n",
    "plt.xlabel('err_code')\n",
    "plt.ylabel('Frequency')\n",
    "plt.title(f'Python for Engineers, 2022a, Ex{EX_NUM} - Grades distribution')\n",
    "plt.savefig(f'{wdir}/ex{EX_NUM}_grades_dist.png')\n",
    "gen.plotResults(students_merged_df)\n",
    "plt.show()"
   ]
  },
  {
   "cell_type": "code",
   "execution_count": 29,
   "metadata": {
    "pycharm": {
     "name": "#%%\n"
    }
   },
   "outputs": [
    {
     "ename": "AttributeError",
     "evalue": "'DataFrame' object has no attribute 'percent_of_total'",
     "output_type": "error",
     "traceback": [
      "\u001b[0;31m---------------------------------------------------------------------------\u001b[0m",
      "\u001b[0;31mAttributeError\u001b[0m                            Traceback (most recent call last)",
      "\u001b[0;32m/tmp/ipykernel_21807/2403240939.py\u001b[0m in \u001b[0;36m<module>\u001b[0;34m\u001b[0m\n\u001b[1;32m      4\u001b[0m \u001b[0mtemp\u001b[0m \u001b[0;34m=\u001b[0m \u001b[0mtemp\u001b[0m\u001b[0;34m.\u001b[0m\u001b[0massign\u001b[0m\u001b[0;34m(\u001b[0m\u001b[0mnum_of_students\u001b[0m \u001b[0;34m=\u001b[0m \u001b[0mdist_quant\u001b[0m\u001b[0;34m)\u001b[0m\u001b[0;34m\u001b[0m\u001b[0;34m\u001b[0m\u001b[0m\n\u001b[1;32m      5\u001b[0m \u001b[0mtemp\u001b[0m\u001b[0;34m.\u001b[0m\u001b[0mrename\u001b[0m\u001b[0;34m(\u001b[0m\u001b[0;34m{\u001b[0m\u001b[0;34m'final_grade'\u001b[0m\u001b[0;34m:\u001b[0m\u001b[0;34m'percent_of_total'\u001b[0m\u001b[0;34m}\u001b[0m\u001b[0;34m,\u001b[0m \u001b[0minplace\u001b[0m \u001b[0;34m=\u001b[0m \u001b[0;32mTrue\u001b[0m\u001b[0;34m,\u001b[0m \u001b[0maxis\u001b[0m \u001b[0;34m=\u001b[0m \u001b[0;36m1\u001b[0m\u001b[0;34m)\u001b[0m\u001b[0;34m\u001b[0m\u001b[0;34m\u001b[0m\u001b[0m\n\u001b[0;32m----> 6\u001b[0;31m \u001b[0mtemp\u001b[0m\u001b[0;34m.\u001b[0m\u001b[0mpercent_of_total\u001b[0m \u001b[0;34m=\u001b[0m \u001b[0mtemp\u001b[0m\u001b[0;34m.\u001b[0m\u001b[0mpercent_of_total\u001b[0m\u001b[0;34m.\u001b[0m\u001b[0mapply\u001b[0m\u001b[0;34m(\u001b[0m\u001b[0;32mlambda\u001b[0m \u001b[0mper\u001b[0m\u001b[0;34m:\u001b[0m \u001b[0mround\u001b[0m\u001b[0;34m(\u001b[0m\u001b[0mper\u001b[0m\u001b[0;34m,\u001b[0m \u001b[0;36m3\u001b[0m\u001b[0;34m)\u001b[0m\u001b[0;34m)\u001b[0m\u001b[0;34m\u001b[0m\u001b[0;34m\u001b[0m\u001b[0m\n\u001b[0m\u001b[1;32m      7\u001b[0m \u001b[0mtemp\u001b[0m \u001b[0;34m=\u001b[0m \u001b[0mtemp\u001b[0m\u001b[0;34m[\u001b[0m\u001b[0;34m[\u001b[0m\u001b[0;34m'num_of_students'\u001b[0m\u001b[0;34m,\u001b[0m \u001b[0;34m'percent_of_total'\u001b[0m\u001b[0;34m]\u001b[0m\u001b[0;34m]\u001b[0m\u001b[0;34m\u001b[0m\u001b[0;34m\u001b[0m\u001b[0m\n\u001b[1;32m      8\u001b[0m \u001b[0mprint\u001b[0m\u001b[0;34m(\u001b[0m\u001b[0mtemp\u001b[0m\u001b[0;34m)\u001b[0m\u001b[0;34m\u001b[0m\u001b[0;34m\u001b[0m\u001b[0m\n",
      "\u001b[0;32m~/.local/lib/python3.10/site-packages/pandas/core/generic.py\u001b[0m in \u001b[0;36m__getattr__\u001b[0;34m(self, name)\u001b[0m\n\u001b[1;32m   5987\u001b[0m         ):\n\u001b[1;32m   5988\u001b[0m             \u001b[0;32mreturn\u001b[0m \u001b[0mself\u001b[0m\u001b[0;34m[\u001b[0m\u001b[0mname\u001b[0m\u001b[0;34m]\u001b[0m\u001b[0;34m\u001b[0m\u001b[0;34m\u001b[0m\u001b[0m\n\u001b[0;32m-> 5989\u001b[0;31m         \u001b[0;32mreturn\u001b[0m \u001b[0mobject\u001b[0m\u001b[0;34m.\u001b[0m\u001b[0m__getattribute__\u001b[0m\u001b[0;34m(\u001b[0m\u001b[0mself\u001b[0m\u001b[0;34m,\u001b[0m \u001b[0mname\u001b[0m\u001b[0;34m)\u001b[0m\u001b[0;34m\u001b[0m\u001b[0;34m\u001b[0m\u001b[0m\n\u001b[0m\u001b[1;32m   5990\u001b[0m \u001b[0;34m\u001b[0m\u001b[0m\n\u001b[1;32m   5991\u001b[0m     \u001b[0;32mdef\u001b[0m \u001b[0m__setattr__\u001b[0m\u001b[0;34m(\u001b[0m\u001b[0mself\u001b[0m\u001b[0;34m,\u001b[0m \u001b[0mname\u001b[0m\u001b[0;34m:\u001b[0m \u001b[0mstr\u001b[0m\u001b[0;34m,\u001b[0m \u001b[0mvalue\u001b[0m\u001b[0;34m)\u001b[0m \u001b[0;34m->\u001b[0m \u001b[0;32mNone\u001b[0m\u001b[0;34m:\u001b[0m\u001b[0;34m\u001b[0m\u001b[0;34m\u001b[0m\u001b[0m\n",
      "\u001b[0;31mAttributeError\u001b[0m: 'DataFrame' object has no attribute 'percent_of_total'"
     ]
    }
   ],
   "source": [
    "dist_norm = students_merged_df.final_grade.value_counts(normalize=True, sort=False)\n",
    "dist_quant = students_merged_df.final_grade.value_counts(normalize=False, sort=False)\n",
    "temp = pd.DataFrame(dist_norm)\n",
    "temp = temp.assign(num_of_students = dist_quant)\n",
    "temp.rename({'final_grade':'percent_of_total'}, inplace = True, axis = 1)\n",
    "temp.percent_of_total = temp.percent_of_total.apply(lambda per: round(per, 3))\n",
    "temp = temp[['num_of_students', 'percent_of_total']]\n",
    "print(temp)"
   ]
  },
  {
   "cell_type": "code",
   "execution_count": 30,
   "metadata": {
    "pycharm": {
     "name": "#%%\n"
    }
   },
   "outputs": [
    {
     "data": {
      "text/html": [
       "<div>\n",
       "<style scoped>\n",
       "    .dataframe tbody tr th:only-of-type {\n",
       "        vertical-align: middle;\n",
       "    }\n",
       "\n",
       "    .dataframe tbody tr th {\n",
       "        vertical-align: top;\n",
       "    }\n",
       "\n",
       "    .dataframe thead th {\n",
       "        text-align: right;\n",
       "    }\n",
       "</style>\n",
       "<table border=\"1\" class=\"dataframe\">\n",
       "  <thead>\n",
       "    <tr style=\"text-align: right;\">\n",
       "      <th></th>\n",
       "      <th>stud_id</th>\n",
       "      <th>stud_name</th>\n",
       "      <th>valid_file_flag</th>\n",
       "      <th>err_codes</th>\n",
       "      <th>err_count</th>\n",
       "      <th>final_grade</th>\n",
       "    </tr>\n",
       "  </thead>\n",
       "  <tbody>\n",
       "  </tbody>\n",
       "</table>\n",
       "</div>"
      ],
      "text/plain": [
       "Empty DataFrame\n",
       "Columns: [stud_id, stud_name, valid_file_flag, err_codes, err_count, final_grade]\n",
       "Index: []"
      ]
     },
     "metadata": {},
     "output_type": "display_data"
    }
   ],
   "source": [
    "problematic_ids_list =  [214390627, 50161280, 209583723, 39909254, 31566466,212212823]\n",
    "display(students_merged_df.loc[students_merged_df.stud_id.isin(problematic_ids_list)].head(10))\n",
    "\n",
    "## Write file\n",
    "students_merged_df.loc[students_merged_df.stud_id.isin(problematic_ids_list)].to_csv(f'{wdir}/ex{EX_NUM}_final_grades_problematic_ids.csv')\n",
    "\n"
   ]
  },
  {
   "cell_type": "markdown",
   "metadata": {
    "pycharm": {
     "name": "#%% md\n"
    }
   },
   "source": [
    "### Print students with grade 0 for validation"
   ]
  },
  {
   "cell_type": "code",
   "execution_count": 31,
   "metadata": {
    "pycharm": {
     "name": "#%%\n"
    }
   },
   "outputs": [
    {
     "data": {
      "text/html": [
       "<div>\n",
       "<style scoped>\n",
       "    .dataframe tbody tr th:only-of-type {\n",
       "        vertical-align: middle;\n",
       "    }\n",
       "\n",
       "    .dataframe tbody tr th {\n",
       "        vertical-align: top;\n",
       "    }\n",
       "\n",
       "    .dataframe thead th {\n",
       "        text-align: right;\n",
       "    }\n",
       "</style>\n",
       "<table border=\"1\" class=\"dataframe\">\n",
       "  <thead>\n",
       "    <tr style=\"text-align: right;\">\n",
       "      <th></th>\n",
       "      <th>stud_id</th>\n",
       "      <th>stud_name</th>\n",
       "      <th>valid_file_flag</th>\n",
       "      <th>err_codes</th>\n",
       "      <th>err_count</th>\n",
       "      <th>final_grade</th>\n",
       "    </tr>\n",
       "  </thead>\n",
       "  <tbody>\n",
       "    <tr>\n",
       "      <th>142</th>\n",
       "      <td>209360528</td>\n",
       "      <td>Itamar Rahamim</td>\n",
       "      <td>True</td>\n",
       "      <td>Imp</td>\n",
       "      <td>20</td>\n",
       "      <td>0</td>\n",
       "    </tr>\n",
       "    <tr>\n",
       "      <th>31</th>\n",
       "      <td>212965305</td>\n",
       "      <td>Ali Egbaria</td>\n",
       "      <td>True</td>\n",
       "      <td>Imp</td>\n",
       "      <td>20</td>\n",
       "      <td>0</td>\n",
       "    </tr>\n",
       "    <tr>\n",
       "      <th>82</th>\n",
       "      <td>325129815</td>\n",
       "      <td>Wajeeh Wattad</td>\n",
       "      <td>True</td>\n",
       "      <td>Imp</td>\n",
       "      <td>20</td>\n",
       "      <td>0</td>\n",
       "    </tr>\n",
       "    <tr>\n",
       "      <th>51</th>\n",
       "      <td>206969354</td>\n",
       "      <td>Orpaz Bar</td>\n",
       "      <td>True</td>\n",
       "      <td>Imp</td>\n",
       "      <td>20</td>\n",
       "      <td>0</td>\n",
       "    </tr>\n",
       "    <tr>\n",
       "      <th>69</th>\n",
       "      <td>316223148</td>\n",
       "      <td>Ofir Koren</td>\n",
       "      <td>True</td>\n",
       "      <td>Imp</td>\n",
       "      <td>20</td>\n",
       "      <td>0</td>\n",
       "    </tr>\n",
       "    <tr>\n",
       "      <th>25</th>\n",
       "      <td>213780638</td>\n",
       "      <td>Siba Aasi</td>\n",
       "      <td>True</td>\n",
       "      <td>Imp</td>\n",
       "      <td>20</td>\n",
       "      <td>0</td>\n",
       "    </tr>\n",
       "    <tr>\n",
       "      <th>55</th>\n",
       "      <td>206500860</td>\n",
       "      <td>Dana Attal</td>\n",
       "      <td>True</td>\n",
       "      <td>Imp</td>\n",
       "      <td>20</td>\n",
       "      <td>0</td>\n",
       "    </tr>\n",
       "    <tr>\n",
       "      <th>96</th>\n",
       "      <td>212966394</td>\n",
       "      <td>Bayan Mhameed</td>\n",
       "      <td>True</td>\n",
       "      <td>Imp</td>\n",
       "      <td>20</td>\n",
       "      <td>0</td>\n",
       "    </tr>\n",
       "  </tbody>\n",
       "</table>\n",
       "</div>"
      ],
      "text/plain": [
       "       stud_id       stud_name  valid_file_flag err_codes  err_count  \\\n",
       "142  209360528  Itamar Rahamim             True       Imp         20   \n",
       "31   212965305     Ali Egbaria             True       Imp         20   \n",
       "82   325129815   Wajeeh Wattad             True       Imp         20   \n",
       "51   206969354       Orpaz Bar             True       Imp         20   \n",
       "69   316223148      Ofir Koren             True       Imp         20   \n",
       "25   213780638       Siba Aasi             True       Imp         20   \n",
       "55   206500860      Dana Attal             True       Imp         20   \n",
       "96   212966394   Bayan Mhameed             True       Imp         20   \n",
       "\n",
       "     final_grade  \n",
       "142            0  \n",
       "31             0  \n",
       "82             0  \n",
       "51             0  \n",
       "69             0  \n",
       "25             0  \n",
       "55             0  \n",
       "96             0  "
      ]
     },
     "execution_count": 31,
     "metadata": {},
     "output_type": "execute_result"
    }
   ],
   "source": [
    "students_merged_df.loc[students_merged_df.final_grade == 0]"
   ]
  },
  {
   "cell_type": "markdown",
   "metadata": {
    "pycharm": {
     "name": "#%% md\n"
    }
   },
   "source": [
    "# Write out all students with good ids"
   ]
  },
  {
   "cell_type": "code",
   "execution_count": 32,
   "metadata": {
    "pycharm": {
     "name": "#%%\n"
    }
   },
   "outputs": [
    {
     "data": {
      "text/html": [
       "<div>\n",
       "<style scoped>\n",
       "    .dataframe tbody tr th:only-of-type {\n",
       "        vertical-align: middle;\n",
       "    }\n",
       "\n",
       "    .dataframe tbody tr th {\n",
       "        vertical-align: top;\n",
       "    }\n",
       "\n",
       "    .dataframe thead th {\n",
       "        text-align: right;\n",
       "    }\n",
       "</style>\n",
       "<table border=\"1\" class=\"dataframe\">\n",
       "  <thead>\n",
       "    <tr style=\"text-align: right;\">\n",
       "      <th></th>\n",
       "      <th>stud_id</th>\n",
       "      <th>stud_name</th>\n",
       "      <th>valid_file_flag</th>\n",
       "      <th>err_codes</th>\n",
       "      <th>err_count</th>\n",
       "      <th>final_grade</th>\n",
       "    </tr>\n",
       "  </thead>\n",
       "  <tbody>\n",
       "    <tr>\n",
       "      <th>14</th>\n",
       "      <td>316297472</td>\n",
       "      <td>Stav Avnit</td>\n",
       "      <td>True</td>\n",
       "      <td>A1, A2, A3, B1, B2, B3, B4, B5, C1, C2, C3, C4...</td>\n",
       "      <td>12</td>\n",
       "      <td>60</td>\n",
       "    </tr>\n",
       "    <tr>\n",
       "      <th>47</th>\n",
       "      <td>214194847</td>\n",
       "      <td>Daniel Nethanel</td>\n",
       "      <td>True</td>\n",
       "      <td>A1, A2, A3, B1, B2, B3, B4, B5, D1X, D2X, D3X,...</td>\n",
       "      <td>11</td>\n",
       "      <td>60</td>\n",
       "    </tr>\n",
       "    <tr>\n",
       "      <th>62</th>\n",
       "      <td>313581951</td>\n",
       "      <td>Raz Bar-On</td>\n",
       "      <td>True</td>\n",
       "      <td>A1, A2, A3, B2, B5</td>\n",
       "      <td>5</td>\n",
       "      <td>80</td>\n",
       "    </tr>\n",
       "    <tr>\n",
       "      <th>77</th>\n",
       "      <td>212838577</td>\n",
       "      <td>Tamer Mansour</td>\n",
       "      <td>True</td>\n",
       "      <td>A1, A2, A3, B2, B5</td>\n",
       "      <td>5</td>\n",
       "      <td>80</td>\n",
       "    </tr>\n",
       "    <tr>\n",
       "      <th>83</th>\n",
       "      <td>209678382</td>\n",
       "      <td>Daniela Amouyal Agranati</td>\n",
       "      <td>True</td>\n",
       "      <td>A1, A2, A3, B2, B5, C1, C3, C4, D1, D2, D3, E1...</td>\n",
       "      <td>13</td>\n",
       "      <td>60</td>\n",
       "    </tr>\n",
       "    <tr>\n",
       "      <th>99</th>\n",
       "      <td>318791068</td>\n",
       "      <td>Jihad Abu Daya</td>\n",
       "      <td>True</td>\n",
       "      <td>A1, A2, A3, B2, B5, D1, D2, D3</td>\n",
       "      <td>8</td>\n",
       "      <td>80</td>\n",
       "    </tr>\n",
       "    <tr>\n",
       "      <th>16</th>\n",
       "      <td>207266560</td>\n",
       "      <td>Noam Fineberg</td>\n",
       "      <td>True</td>\n",
       "      <td>A1, A2, A3, B2X, B5X, E0</td>\n",
       "      <td>8</td>\n",
       "      <td>80</td>\n",
       "    </tr>\n",
       "    <tr>\n",
       "      <th>133</th>\n",
       "      <td>325562700</td>\n",
       "      <td>Avraham Rozenberg</td>\n",
       "      <td>True</td>\n",
       "      <td>A1, A2, A3, C1, C2, C3, C4, D1, D2, D3</td>\n",
       "      <td>9</td>\n",
       "      <td>80</td>\n",
       "    </tr>\n",
       "    <tr>\n",
       "      <th>138</th>\n",
       "      <td>208940882</td>\n",
       "      <td>Eden Cohen</td>\n",
       "      <td>True</td>\n",
       "      <td>A1, A2, A3, D1, D2, D3</td>\n",
       "      <td>6</td>\n",
       "      <td>80</td>\n",
       "    </tr>\n",
       "    <tr>\n",
       "      <th>17</th>\n",
       "      <td>214296923</td>\n",
       "      <td>Bayan Said Ahmad</td>\n",
       "      <td>True</td>\n",
       "      <td>A1, A3, B2, B5, D2, D3</td>\n",
       "      <td>6</td>\n",
       "      <td>80</td>\n",
       "    </tr>\n",
       "  </tbody>\n",
       "</table>\n",
       "</div>"
      ],
      "text/plain": [
       "       stud_id                 stud_name  valid_file_flag  \\\n",
       "14   316297472                Stav Avnit             True   \n",
       "47   214194847           Daniel Nethanel             True   \n",
       "62   313581951                Raz Bar-On             True   \n",
       "77   212838577             Tamer Mansour             True   \n",
       "83   209678382  Daniela Amouyal Agranati             True   \n",
       "99   318791068            Jihad Abu Daya             True   \n",
       "16   207266560             Noam Fineberg             True   \n",
       "133  325562700         Avraham Rozenberg             True   \n",
       "138  208940882                Eden Cohen             True   \n",
       "17   214296923          Bayan Said Ahmad             True   \n",
       "\n",
       "                                             err_codes  err_count  final_grade  \n",
       "14   A1, A2, A3, B1, B2, B3, B4, B5, C1, C2, C3, C4...         12           60  \n",
       "47   A1, A2, A3, B1, B2, B3, B4, B5, D1X, D2X, D3X,...         11           60  \n",
       "62                                  A1, A2, A3, B2, B5          5           80  \n",
       "77                                  A1, A2, A3, B2, B5          5           80  \n",
       "83   A1, A2, A3, B2, B5, C1, C3, C4, D1, D2, D3, E1...         13           60  \n",
       "99                      A1, A2, A3, B2, B5, D1, D2, D3          8           80  \n",
       "16                            A1, A2, A3, B2X, B5X, E0          8           80  \n",
       "133             A1, A2, A3, C1, C2, C3, C4, D1, D2, D3          9           80  \n",
       "138                             A1, A2, A3, D1, D2, D3          6           80  \n",
       "17                              A1, A3, B2, B5, D2, D3          6           80  "
      ]
     },
     "metadata": {},
     "output_type": "display_data"
    }
   ],
   "source": [
    "display(students_merged_df.head(10))\n",
    "\n",
    "## Write file \n",
    "students_merged_df.loc[~students_merged_df.stud_id.isin(problematic_ids_list)].to_csv(f'{wdir}/ex{EX_NUM}_final_grades.csv')\n",
    "\n",
    "\n"
   ]
  },
  {
   "cell_type": "code",
   "execution_count": 33,
   "metadata": {
    "pycharm": {
     "name": "#%%\n"
    }
   },
   "outputs": [
    {
     "ename": "FileNotFoundError",
     "evalue": "[Errno 2] No such file or directory: '/Users/dror/PycharmProjects/PyProg1920Bex4/outputs/ex4_err_df_extended.csv'",
     "output_type": "error",
     "traceback": [
      "\u001b[0;31m---------------------------------------------------------------------------\u001b[0m",
      "\u001b[0;31mFileNotFoundError\u001b[0m                         Traceback (most recent call last)",
      "\u001b[0;32m/tmp/ipykernel_21807/2552280932.py\u001b[0m in \u001b[0;36m<module>\u001b[0;34m\u001b[0m\n\u001b[1;32m      1\u001b[0m \u001b[0;31m# Load the datasets\u001b[0m\u001b[0;34m\u001b[0m\u001b[0;34m\u001b[0m\u001b[0m\n\u001b[0;32m----> 2\u001b[0;31m \u001b[0merr_extended\u001b[0m \u001b[0;34m=\u001b[0m \u001b[0mpd\u001b[0m\u001b[0;34m.\u001b[0m\u001b[0mread_csv\u001b[0m\u001b[0;34m(\u001b[0m\u001b[0;34mf'/Users/dror/PycharmProjects/PyProg1920Bex{EX_NUM}/outputs/ex{EX_NUM}_err_df_extended.csv'\u001b[0m\u001b[0;34m,\u001b[0m \u001b[0mindex_col\u001b[0m \u001b[0;34m=\u001b[0m\u001b[0;36m0\u001b[0m\u001b[0;34m)\u001b[0m\u001b[0;34m.\u001b[0m\u001b[0mreset_index\u001b[0m\u001b[0;34m(\u001b[0m\u001b[0;34m)\u001b[0m\u001b[0;34m\u001b[0m\u001b[0;34m\u001b[0m\u001b[0m\n\u001b[0m\u001b[1;32m      3\u001b[0m \u001b[0merr_extended_recheck\u001b[0m \u001b[0;34m=\u001b[0m \u001b[0mpd\u001b[0m\u001b[0;34m.\u001b[0m\u001b[0mread_csv\u001b[0m\u001b[0;34m(\u001b[0m\u001b[0;34mf'/Users/dror/PycharmProjects/PyProg1920Bex{EX_NUM}/recheck_outputs/ex{EX_NUM}_err_df_extended.csv'\u001b[0m\u001b[0;34m)\u001b[0m\u001b[0;34m.\u001b[0m\u001b[0mrename\u001b[0m\u001b[0;34m(\u001b[0m\u001b[0;34m{\u001b[0m\u001b[0;34m'Unnamed: 0'\u001b[0m\u001b[0;34m:\u001b[0m\u001b[0;34m'stud_id'\u001b[0m\u001b[0;34m}\u001b[0m\u001b[0;34m,\u001b[0m \u001b[0maxis\u001b[0m \u001b[0;34m=\u001b[0m \u001b[0;36m1\u001b[0m\u001b[0;34m)\u001b[0m\u001b[0;34m\u001b[0m\u001b[0;34m\u001b[0m\u001b[0m\n\u001b[1;32m      4\u001b[0m \u001b[0;34m\u001b[0m\u001b[0m\n\u001b[1;32m      5\u001b[0m \u001b[0;31m# Merge the two of them\u001b[0m\u001b[0;34m\u001b[0m\u001b[0;34m\u001b[0m\u001b[0m\n",
      "\u001b[0;32m~/.local/lib/python3.10/site-packages/pandas/io/parsers/readers.py\u001b[0m in \u001b[0;36mread_csv\u001b[0;34m(filepath_or_buffer, sep, delimiter, header, names, index_col, usecols, dtype, engine, converters, true_values, false_values, skipinitialspace, skiprows, skipfooter, nrows, na_values, keep_default_na, na_filter, verbose, skip_blank_lines, parse_dates, infer_datetime_format, keep_date_col, date_parser, date_format, dayfirst, cache_dates, iterator, chunksize, compression, thousands, decimal, lineterminator, quotechar, quoting, doublequote, escapechar, comment, encoding, encoding_errors, dialect, on_bad_lines, delim_whitespace, low_memory, memory_map, float_precision, storage_options, dtype_backend)\u001b[0m\n\u001b[1;32m    910\u001b[0m     \u001b[0mkwds\u001b[0m\u001b[0;34m.\u001b[0m\u001b[0mupdate\u001b[0m\u001b[0;34m(\u001b[0m\u001b[0mkwds_defaults\u001b[0m\u001b[0;34m)\u001b[0m\u001b[0;34m\u001b[0m\u001b[0;34m\u001b[0m\u001b[0m\n\u001b[1;32m    911\u001b[0m \u001b[0;34m\u001b[0m\u001b[0m\n\u001b[0;32m--> 912\u001b[0;31m     \u001b[0;32mreturn\u001b[0m \u001b[0m_read\u001b[0m\u001b[0;34m(\u001b[0m\u001b[0mfilepath_or_buffer\u001b[0m\u001b[0;34m,\u001b[0m \u001b[0mkwds\u001b[0m\u001b[0;34m)\u001b[0m\u001b[0;34m\u001b[0m\u001b[0;34m\u001b[0m\u001b[0m\n\u001b[0m\u001b[1;32m    913\u001b[0m \u001b[0;34m\u001b[0m\u001b[0m\n\u001b[1;32m    914\u001b[0m \u001b[0;34m\u001b[0m\u001b[0m\n",
      "\u001b[0;32m~/.local/lib/python3.10/site-packages/pandas/io/parsers/readers.py\u001b[0m in \u001b[0;36m_read\u001b[0;34m(filepath_or_buffer, kwds)\u001b[0m\n\u001b[1;32m    575\u001b[0m \u001b[0;34m\u001b[0m\u001b[0m\n\u001b[1;32m    576\u001b[0m     \u001b[0;31m# Create the parser.\u001b[0m\u001b[0;34m\u001b[0m\u001b[0;34m\u001b[0m\u001b[0m\n\u001b[0;32m--> 577\u001b[0;31m     \u001b[0mparser\u001b[0m \u001b[0;34m=\u001b[0m \u001b[0mTextFileReader\u001b[0m\u001b[0;34m(\u001b[0m\u001b[0mfilepath_or_buffer\u001b[0m\u001b[0;34m,\u001b[0m \u001b[0;34m**\u001b[0m\u001b[0mkwds\u001b[0m\u001b[0;34m)\u001b[0m\u001b[0;34m\u001b[0m\u001b[0;34m\u001b[0m\u001b[0m\n\u001b[0m\u001b[1;32m    578\u001b[0m \u001b[0;34m\u001b[0m\u001b[0m\n\u001b[1;32m    579\u001b[0m     \u001b[0;32mif\u001b[0m \u001b[0mchunksize\u001b[0m \u001b[0;32mor\u001b[0m \u001b[0miterator\u001b[0m\u001b[0;34m:\u001b[0m\u001b[0;34m\u001b[0m\u001b[0;34m\u001b[0m\u001b[0m\n",
      "\u001b[0;32m~/.local/lib/python3.10/site-packages/pandas/io/parsers/readers.py\u001b[0m in \u001b[0;36m__init__\u001b[0;34m(self, f, engine, **kwds)\u001b[0m\n\u001b[1;32m   1405\u001b[0m \u001b[0;34m\u001b[0m\u001b[0m\n\u001b[1;32m   1406\u001b[0m         \u001b[0mself\u001b[0m\u001b[0;34m.\u001b[0m\u001b[0mhandles\u001b[0m\u001b[0;34m:\u001b[0m \u001b[0mIOHandles\u001b[0m \u001b[0;34m|\u001b[0m \u001b[0;32mNone\u001b[0m \u001b[0;34m=\u001b[0m \u001b[0;32mNone\u001b[0m\u001b[0;34m\u001b[0m\u001b[0;34m\u001b[0m\u001b[0m\n\u001b[0;32m-> 1407\u001b[0;31m         \u001b[0mself\u001b[0m\u001b[0;34m.\u001b[0m\u001b[0m_engine\u001b[0m \u001b[0;34m=\u001b[0m \u001b[0mself\u001b[0m\u001b[0;34m.\u001b[0m\u001b[0m_make_engine\u001b[0m\u001b[0;34m(\u001b[0m\u001b[0mf\u001b[0m\u001b[0;34m,\u001b[0m \u001b[0mself\u001b[0m\u001b[0;34m.\u001b[0m\u001b[0mengine\u001b[0m\u001b[0;34m)\u001b[0m\u001b[0;34m\u001b[0m\u001b[0;34m\u001b[0m\u001b[0m\n\u001b[0m\u001b[1;32m   1408\u001b[0m \u001b[0;34m\u001b[0m\u001b[0m\n\u001b[1;32m   1409\u001b[0m     \u001b[0;32mdef\u001b[0m \u001b[0mclose\u001b[0m\u001b[0;34m(\u001b[0m\u001b[0mself\u001b[0m\u001b[0;34m)\u001b[0m \u001b[0;34m->\u001b[0m \u001b[0;32mNone\u001b[0m\u001b[0;34m:\u001b[0m\u001b[0;34m\u001b[0m\u001b[0;34m\u001b[0m\u001b[0m\n",
      "\u001b[0;32m~/.local/lib/python3.10/site-packages/pandas/io/parsers/readers.py\u001b[0m in \u001b[0;36m_make_engine\u001b[0;34m(self, f, engine)\u001b[0m\n\u001b[1;32m   1659\u001b[0m                 \u001b[0;32mif\u001b[0m \u001b[0;34m\"b\"\u001b[0m \u001b[0;32mnot\u001b[0m \u001b[0;32min\u001b[0m \u001b[0mmode\u001b[0m\u001b[0;34m:\u001b[0m\u001b[0;34m\u001b[0m\u001b[0;34m\u001b[0m\u001b[0m\n\u001b[1;32m   1660\u001b[0m                     \u001b[0mmode\u001b[0m \u001b[0;34m+=\u001b[0m \u001b[0;34m\"b\"\u001b[0m\u001b[0;34m\u001b[0m\u001b[0;34m\u001b[0m\u001b[0m\n\u001b[0;32m-> 1661\u001b[0;31m             self.handles = get_handle(\n\u001b[0m\u001b[1;32m   1662\u001b[0m                 \u001b[0mf\u001b[0m\u001b[0;34m,\u001b[0m\u001b[0;34m\u001b[0m\u001b[0;34m\u001b[0m\u001b[0m\n\u001b[1;32m   1663\u001b[0m                 \u001b[0mmode\u001b[0m\u001b[0;34m,\u001b[0m\u001b[0;34m\u001b[0m\u001b[0;34m\u001b[0m\u001b[0m\n",
      "\u001b[0;32m~/.local/lib/python3.10/site-packages/pandas/io/common.py\u001b[0m in \u001b[0;36mget_handle\u001b[0;34m(path_or_buf, mode, encoding, compression, memory_map, is_text, errors, storage_options)\u001b[0m\n\u001b[1;32m    857\u001b[0m         \u001b[0;32mif\u001b[0m \u001b[0mioargs\u001b[0m\u001b[0;34m.\u001b[0m\u001b[0mencoding\u001b[0m \u001b[0;32mand\u001b[0m \u001b[0;34m\"b\"\u001b[0m \u001b[0;32mnot\u001b[0m \u001b[0;32min\u001b[0m \u001b[0mioargs\u001b[0m\u001b[0;34m.\u001b[0m\u001b[0mmode\u001b[0m\u001b[0;34m:\u001b[0m\u001b[0;34m\u001b[0m\u001b[0;34m\u001b[0m\u001b[0m\n\u001b[1;32m    858\u001b[0m             \u001b[0;31m# Encoding\u001b[0m\u001b[0;34m\u001b[0m\u001b[0;34m\u001b[0m\u001b[0m\n\u001b[0;32m--> 859\u001b[0;31m             handle = open(\n\u001b[0m\u001b[1;32m    860\u001b[0m                 \u001b[0mhandle\u001b[0m\u001b[0;34m,\u001b[0m\u001b[0;34m\u001b[0m\u001b[0;34m\u001b[0m\u001b[0m\n\u001b[1;32m    861\u001b[0m                 \u001b[0mioargs\u001b[0m\u001b[0;34m.\u001b[0m\u001b[0mmode\u001b[0m\u001b[0;34m,\u001b[0m\u001b[0;34m\u001b[0m\u001b[0;34m\u001b[0m\u001b[0m\n",
      "\u001b[0;31mFileNotFoundError\u001b[0m: [Errno 2] No such file or directory: '/Users/dror/PycharmProjects/PyProg1920Bex4/outputs/ex4_err_df_extended.csv'"
     ]
    }
   ],
   "source": [
    "# Load the datasets\n",
    "err_extended = pd.read_csv(f'/Users/dror/PycharmProjects/PyProg1920Bex{EX_NUM}/outputs/ex{EX_NUM}_err_df_extended.csv', index_col =0).reset_index()\n",
    "err_extended_recheck = pd.read_csv(f'/Users/dror/PycharmProjects/PyProg1920Bex{EX_NUM}/recheck_outputs/ex{EX_NUM}_err_df_extended.csv').rename({'Unnamed: 0':'stud_id'}, axis = 1)\n",
    "\n",
    "# Merge the two of them\n",
    "err_df_ex_merged = err_extended.append(err_extended_recheck, sort=True).drop_duplicates(['stud_id'],keep='last')\n"
   ]
  },
  {
   "cell_type": "code",
   "execution_count": 34,
   "metadata": {
    "pycharm": {
     "name": "#%%\n"
    }
   },
   "outputs": [
    {
     "ename": "NameError",
     "evalue": "name 'err_df_ex_merged' is not defined",
     "output_type": "error",
     "traceback": [
      "\u001b[0;31m---------------------------------------------------------------------------\u001b[0m",
      "\u001b[0;31mNameError\u001b[0m                                 Traceback (most recent call last)",
      "\u001b[0;32m/tmp/ipykernel_21807/2365886630.py\u001b[0m in \u001b[0;36m<module>\u001b[0;34m\u001b[0m\n\u001b[1;32m      1\u001b[0m \u001b[0;31m# The err_df_extended only contains id's of students that had errors,\u001b[0m\u001b[0;34m\u001b[0m\u001b[0;34m\u001b[0m\u001b[0m\n\u001b[1;32m      2\u001b[0m \u001b[0;31m# so first it has to be merged with the regular df stud_id column so it will have all the students ID's in it.\u001b[0m\u001b[0;34m\u001b[0m\u001b[0;34m\u001b[0m\u001b[0m\n\u001b[0;32m----> 3\u001b[0;31m \u001b[0merr_df_ex_merged\u001b[0m\u001b[0;34m.\u001b[0m\u001b[0mmerge\u001b[0m\u001b[0;34m(\u001b[0m\u001b[0merr_df_merged\u001b[0m\u001b[0;34m.\u001b[0m\u001b[0mstud_id\u001b[0m\u001b[0;34m,\u001b[0m \u001b[0mhow\u001b[0m \u001b[0;34m=\u001b[0m \u001b[0;34m'outer'\u001b[0m\u001b[0;34m)\u001b[0m\u001b[0;34m\u001b[0m\u001b[0;34m\u001b[0m\u001b[0m\n\u001b[0m",
      "\u001b[0;31mNameError\u001b[0m: name 'err_df_ex_merged' is not defined"
     ]
    }
   ],
   "source": [
    "# The err_df_extended only contains id's of students that had errors, \n",
    "# so first it has to be merged with the regular df stud_id column so it will have all the students ID's in it.\n",
    "err_df_ex_merged.merge(err_df_merged.stud_id, how = 'outer')\n"
   ]
  },
  {
   "cell_type": "code",
   "execution_count": 35,
   "metadata": {
    "pycharm": {
     "name": "#%%\n"
    }
   },
   "outputs": [
    {
     "ename": "NameError",
     "evalue": "name 'err_df_ex_merged' is not defined",
     "output_type": "error",
     "traceback": [
      "\u001b[0;31m---------------------------------------------------------------------------\u001b[0m",
      "\u001b[0;31mNameError\u001b[0m                                 Traceback (most recent call last)",
      "\u001b[0;32m/tmp/ipykernel_21807/1532989545.py\u001b[0m in \u001b[0;36m<module>\u001b[0;34m\u001b[0m\n\u001b[1;32m      1\u001b[0m \u001b[0;31m# The err_extended contains column names like E2L, E2Exp etc, melt them all into 1 column for code error\u001b[0m\u001b[0;34m\u001b[0m\u001b[0;34m\u001b[0m\u001b[0m\n\u001b[0;32m----> 2\u001b[0;31m \u001b[0merr_df_ex_merged\u001b[0m\u001b[0;34m.\u001b[0m\u001b[0mrename\u001b[0m\u001b[0;34m(\u001b[0m\u001b[0mcolumns\u001b[0m\u001b[0;34m=\u001b[0m\u001b[0;32mlambda\u001b[0m \u001b[0mcol_name\u001b[0m\u001b[0;34m:\u001b[0m \u001b[0mcol_name\u001b[0m\u001b[0;34m[\u001b[0m\u001b[0;34m:\u001b[0m\u001b[0;36m2\u001b[0m\u001b[0;34m]\u001b[0m\u001b[0;34m,\u001b[0m \u001b[0minplace\u001b[0m\u001b[0;34m=\u001b[0m\u001b[0;32mTrue\u001b[0m\u001b[0;34m)\u001b[0m\u001b[0;34m\u001b[0m\u001b[0;34m\u001b[0m\u001b[0m\n\u001b[0m\u001b[1;32m      3\u001b[0m \u001b[0;34m\u001b[0m\u001b[0m\n\u001b[1;32m      4\u001b[0m \u001b[0;31m# Melt columns with same name that resulted from the lambda above\u001b[0m\u001b[0;34m\u001b[0m\u001b[0;34m\u001b[0m\u001b[0m\n\u001b[1;32m      5\u001b[0m \u001b[0merr_df_ex_merged\u001b[0m \u001b[0;34m=\u001b[0m \u001b[0mpd\u001b[0m\u001b[0;34m.\u001b[0m\u001b[0mconcat\u001b[0m\u001b[0;34m(\u001b[0m\u001b[0;34m[\u001b[0m\u001b[0merr_df_ex_merged\u001b[0m\u001b[0;34m,\u001b[0m\u001b[0merr_df_ex_merged\u001b[0m\u001b[0;34m]\u001b[0m\u001b[0;34m)\u001b[0m\u001b[0;34m\u001b[0m\u001b[0;34m\u001b[0m\u001b[0m\n",
      "\u001b[0;31mNameError\u001b[0m: name 'err_df_ex_merged' is not defined"
     ]
    }
   ],
   "source": [
    "# The err_extended contains column names like E2L, E2Exp etc, melt them all into 1 column for code error\n",
    "err_df_ex_merged.rename(columns=lambda col_name: col_name[:2], inplace=True)\n",
    "\n",
    "# Melt columns with same name that resulted from the lambda above\n",
    "err_df_ex_merged = pd.concat([err_df_ex_merged,err_df_ex_merged])\n",
    "\n",
    "# Replace nan's (No error in question) with 'OK', and sort \n",
    "err_df_ex_merged = err_df_ex_merged.fillna('OK').sort_index(axis = 1).set_index('in').reset_index().rename({'in':'stud_id'}, axis = 1)\n",
    "\n",
    "# Write final err_extended_csv\n",
    "err_df_ex_merged.to_csv(f'{wdir}/ex{EX_NUM}_err_df_extended.csv')\n",
    "\n"
   ]
  },
  {
   "cell_type": "markdown",
   "metadata": {
    "pycharm": {
     "name": "#%% md\n"
    }
   },
   "source": [
    "## Excercises grading funcs"
   ]
  },
  {
   "cell_type": "markdown",
   "metadata": {
    "pycharm": {
     "name": "#%% md\n"
    }
   },
   "source": [
    "### Ex3"
   ]
  },
  {
   "cell_type": "code",
   "execution_count": 36,
   "metadata": {
    "pycharm": {
     "name": "#%%\n"
    }
   },
   "outputs": [],
   "source": [
    "def get_err_count(err_codes_str: str)-> float:\n",
    "    '''\n",
    "    THIS FUNCTION IS USED AGAIN TO REFACTOR GRADES AT THE FINAL NOTEBOOK, ITS HERE FOR PURPOSE OF CONSERVATION\n",
    "    Get a string representing all error codes that a student has.\n",
    "    Count the different types of errors and return the weighted total of errors.\n",
    "    :param err_codes_str: string representation of error codes, format is a  a comma seprated string representation of\n",
    "    a list, such assuch as 'A1, D*2, C3' etc.\n",
    "    :return: float representing the total weighted errors.\n",
    "    '''\n",
    "    if(err_codes_str == 'OK'): return 0 \n",
    "    cum_sum_of_errs = 0\n",
    "    \n",
    "    B6_flag = len(re.findall('B6', err_codes_str)) > 0\n",
    "\n",
    "    qnum_err_codes = ['A', 'B', 'C', 'D', 'E', 'F']\n",
    "    for qnum, q_errcode in enumerate(qnum_err_codes, 1):\n",
    "        # Failed to test the question - e.g AImp - give a weight of 3\n",
    "        if(len(re.findall(f'{q_errcode}Imp', err_codes_str)) > 0 ):\n",
    "            cum_sum_of_errs += 3\n",
    "            continue \n",
    "        \n",
    "        \n",
    "        # Take up to <max_err_per_q> per question\n",
    "        max_err_per_q = 3\n",
    "        num_of_errs = min(len(re.findall(f'{q_errcode}', err_codes_str)), max_err_per_q)\n",
    "        \n",
    "        if(qnum == 2) and B6_flag:\n",
    "            num_of_errs += 1\n",
    "#             print('** ' + str(num_of_errs))\n",
    "        \n",
    "        # Add to cumulative sum of erros so far\n",
    "        cum_sum_of_errs += num_of_errs \n",
    "        \n",
    "    # Find students with a total Imp flag\n",
    "    imp_flag = len(re.findall(r'\\bImp', err_codes_str))\n",
    "    \n",
    "    # Find students with a RE flag\n",
    "    RECHECK_flag = len(re.findall('RE', err_codes_str))\n",
    "\n",
    "    \n",
    "    # Calculate final err count\n",
    "    err_count =  imp_flag * 15 + cum_sum_of_errs + RECHECK_flag * 6\n",
    "\n",
    "    return err_count"
   ]
  },
  {
   "cell_type": "markdown",
   "metadata": {
    "pycharm": {
     "name": "#%% md\n"
    }
   },
   "source": [
    "## EX7"
   ]
  },
  {
   "cell_type": "code",
   "execution_count": 37,
   "metadata": {
    "pycharm": {
     "name": "#%%\n"
    }
   },
   "outputs": [],
   "source": [
    "def get_err_count(err_codes_str: str)-> float:\n",
    "    '''\n",
    "    THIS FUNCTION IS USED AGAIN TO REFACTOR GRADES AT THE FINAL NOTEBOOK, ITS HERE FOR PURPOSE OF CONSERVATION\n",
    "    Get a string representing all error codes that a student has.\n",
    "    Count the different types of errors and return the weighted total of errors.\n",
    "    :param err_codes_str: string representation of error codes, format is a  a comma seprated string representation of\n",
    "    a list, such assuch as 'A1, D*2, C3' etc.\n",
    "    :return: float representing the total weighted errors.\n",
    "    '''\n",
    "    if(err_codes_str == 'OK'): return 0 \n",
    "    cum_sum_of_errs = 0\n",
    "\n",
    "    qnum_err_codes = ['A', 'B', 'C', 'D', 'E', 'G']\n",
    "    max_err_per_q = 3\n",
    "\n",
    "    for qnum, q_errcode in enumerate(qnum_err_codes, 1):\n",
    "        \n",
    "        # Failed to test the question - e.g AImp - give a weight of 3\n",
    "        if(len(re.findall(f'{q_errcode}Imp', err_codes_str)) > 0 ):\n",
    "            cum_sum_of_errs += 3\n",
    "            continue \n",
    "          \n",
    "        # Take up to <max_err_per_q> per question\n",
    "        num_of_errs = min(len(re.findall(f'{q_errcode}', err_codes_str)), max_err_per_q)\n",
    "        \n",
    "        if q_errcode in ['B', 'G'] and num_of_errs > 0:\n",
    "            num_of_errs+=1\n",
    "\n",
    "        # Add to cumulative sum of erros so far\n",
    "        cum_sum_of_errs += num_of_errs \n",
    "        \n",
    "    # Find students with a total Imp flag\n",
    "    imp_flag = len(re.findall(r'\\bImp', err_codes_str))\n",
    "    \n",
    "    # Find students with a RE flag\n",
    "    RECHECK_flag = len(re.findall('RE', err_codes_str))\n",
    "\n",
    "    \n",
    "    # Calculate final err count\n",
    "    err_count =  imp_flag * 15 + cum_sum_of_errs + RECHECK_flag * 6\n",
    "\n",
    "    return err_count\n"
   ]
  }
 ],
 "metadata": {
  "kernelspec": {
   "display_name": "Python 3 (ipykernel)",
   "language": "python",
   "name": "python3"
  },
  "language_info": {
   "codemirror_mode": {
    "name": "ipython",
    "version": 3
   },
   "file_extension": ".py",
   "mimetype": "text/x-python",
   "name": "python",
   "nbconvert_exporter": "python",
   "pygments_lexer": "ipython3",
   "version": "3.10.12"
  }
 },
 "nbformat": 4,
 "nbformat_minor": 1
}
